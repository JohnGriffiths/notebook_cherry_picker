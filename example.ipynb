{
 "metadata": {
  "cell_tags": [
   [
    "<None>",
    null
   ],
   [
    "header",
    "header"
   ],
   [
    "notebook1",
    "notebook1"
   ],
   [
    "notebook2",
    "notebook2"
   ]
  ],
  "name": ""
 },
 "nbformat": 3,
 "nbformat_minor": 0,
 "worksheets": [
  {
   "cells": [
    {
     "cell_type": "heading",
     "level": 1,
     "metadata": {
      "cell_tag": "header"
     },
     "source": [
      "Cherry Picking Example"
     ]
    },
    {
     "cell_type": "markdown",
     "metadata": {
      "cell_tag": "header"
     },
     "source": [
      "This notebook is an example of a notebook that can be split into smaller notebooks via [cherry-picking](http://en.wikipedia.org/wiki/Cherry_picking_%28fallacy%29)."
     ]
    },
    {
     "cell_type": "heading",
     "level": 2,
     "metadata": {
      "cell_tag": "notebook1"
     },
     "source": [
      "Notebook 1"
     ]
    },
    {
     "cell_type": "markdown",
     "metadata": {
      "cell_tag": "notebook1"
     },
     "source": [
      "This text and the following code should belong to **notebook1**."
     ]
    },
    {
     "cell_type": "code",
     "collapsed": false,
     "input": [
      "print(\"hello world\")"
     ],
     "language": "python",
     "metadata": {
      "cell_tag": "notebook1"
     },
     "outputs": [
      {
       "output_type": "stream",
       "stream": "stdout",
       "text": [
        "hello world\n"
       ]
      }
     ],
     "prompt_number": 1
    },
    {
     "cell_type": "heading",
     "level": 2,
     "metadata": {
      "cell_tag": "notebook2"
     },
     "source": [
      "Notebook 2"
     ]
    },
    {
     "cell_type": "markdown",
     "metadata": {
      "cell_tag": "notebook2"
     },
     "source": [
      "This text and the following code should belong to **notebook2**."
     ]
    },
    {
     "cell_type": "code",
     "collapsed": false,
     "input": [
      "1+3"
     ],
     "language": "python",
     "metadata": {
      "cell_tag": "notebook2"
     },
     "outputs": [
      {
       "metadata": {},
       "output_type": "pyout",
       "prompt_number": 2,
       "text": [
        "4"
       ]
      }
     ],
     "prompt_number": 2
    },
    {
     "cell_type": "code",
     "collapsed": false,
     "input": [
      "print(\"goodbye world\")\n"
     ],
     "language": "python",
     "metadata": {
      "cell_tag": "notebook2"
     },
     "outputs": [
      {
       "output_type": "stream",
       "stream": "stdout",
       "text": [
        "goodbye world\n"
       ]
      }
     ],
     "prompt_number": 3
    }
   ],
   "metadata": {}
  }
 ]
}