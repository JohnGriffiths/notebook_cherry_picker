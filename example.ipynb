{
 "metadata": {
  "name": ""
 },
 "nbformat": 3,
 "nbformat_minor": 0,
 "worksheets": [
  {
   "cells": [
    {
     "cell_type": "heading",
     "level": 1,
     "metadata": {
      "cell_tags": [
       "instructor",
       "student"
      ]
     },
     "source": [
      "Software Carpentry"
     ]
    },
    {
     "cell_type": "heading",
     "level": 2,
     "metadata": {
      "cell_tags": [
       "instructor",
       "student"
      ]
     },
     "source": [
      "Cherry Picking Example"
     ]
    },
    {
     "cell_type": "markdown",
     "metadata": {
      "cell_tags": [
       "instructor",
       "student"
      ]
     },
     "source": [
      "Small cell cherry picking example."
     ]
    },
    {
     "cell_type": "markdown",
     "metadata": {
      "cell_tags": [
       "student"
      ]
     },
     "source": [
      "*Hints are available at the end of this document.*"
     ]
    },
    {
     "cell_type": "markdown",
     "metadata": {
      "cell_tags": [
       "exercise"
      ]
     },
     "source": [
      "**Exercise:** Change *b* so the following code returns True."
     ]
    },
    {
     "cell_type": "code",
     "collapsed": false,
     "input": [
      "a = 5\n",
      "b = 2\n",
      "\n",
      "a * b == 15"
     ],
     "language": "python",
     "metadata": {
      "cell_tags": [
       "exercise"
      ]
     },
     "outputs": [
      {
       "metadata": {},
       "output_type": "pyout",
       "prompt_number": 2,
       "text": [
        "False"
       ]
      }
     ],
     "prompt_number": 2
    },
    {
     "cell_type": "markdown",
     "metadata": {
      "cell_tags": [
       "instructor"
      ]
     },
     "source": [
      "**Correct Answer**"
     ]
    },
    {
     "cell_type": "code",
     "collapsed": false,
     "input": [
      "a = 5\n",
      "b = 3\n",
      "\n",
      "a * b == 15"
     ],
     "language": "python",
     "metadata": {
      "cell_tags": [
       "instructor"
      ]
     },
     "outputs": [
      {
       "metadata": {},
       "output_type": "pyout",
       "prompt_number": 3,
       "text": [
        "True"
       ]
      }
     ],
     "prompt_number": 3
    },
    {
     "cell_type": "markdown",
     "metadata": {
      "cell_tags": [
       "student"
      ]
     },
     "source": [
      "**Hints**\n",
      "Change the number *2* to a different number."
     ]
    },
    {
     "cell_type": "code",
     "collapsed": false,
     "input": [],
     "language": "python",
     "metadata": {
      "cell_tags": [
       "student"
      ]
     },
     "outputs": []
    }
   ],
   "metadata": {}
  }
 ]
}